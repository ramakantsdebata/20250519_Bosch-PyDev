{
 "cells": [
  {
   "cell_type": "code",
   "execution_count": null,
   "id": "09d0641f",
   "metadata": {},
   "outputs": [],
   "source": [
    "a = 10"
   ]
  },
  {
   "cell_type": "code",
   "execution_count": null,
   "id": "fa78fa09",
   "metadata": {},
   "outputs": [],
   "source": [
    "print(a)"
   ]
  },
  {
   "cell_type": "code",
   "execution_count": null,
   "id": "18dd9038",
   "metadata": {},
   "outputs": [],
   "source": [
    "b = 20"
   ]
  },
  {
   "cell_type": "code",
   "execution_count": null,
   "id": "fc99d181",
   "metadata": {},
   "outputs": [],
   "source": [
    "c = a + b\n",
    "print(c)"
   ]
  },
  {
   "cell_type": "code",
   "execution_count": null,
   "id": "2250f9af",
   "metadata": {},
   "outputs": [],
   "source": [
    "a = 10"
   ]
  },
  {
   "cell_type": "code",
   "execution_count": null,
   "id": "dad7c8e7",
   "metadata": {},
   "outputs": [],
   "source": [
    "a + 10"
   ]
  },
  {
   "cell_type": "code",
   "execution_count": null,
   "id": "0a9a0ea0",
   "metadata": {},
   "outputs": [],
   "source": [
    "_ + 10"
   ]
  },
  {
   "cell_type": "markdown",
   "id": "0621d3b5",
   "metadata": {},
   "source": [
    "## Scalar Types and Values\n",
    "* bool \n",
    "* None\n",
    "* int \n",
    "* float\n",
    "* few others..."
   ]
  },
  {
   "cell_type": "code",
   "execution_count": null,
   "id": "77b5bf16",
   "metadata": {},
   "outputs": [],
   "source": [
    "# BOOLEAN TYPE\n",
    "b1 = True\n",
    "print(type(b1))\n"
   ]
  },
  {
   "cell_type": "code",
   "execution_count": null,
   "id": "174f7d5b",
   "metadata": {},
   "outputs": [],
   "source": [
    "bool(0), bool(1), bool(10), bool(-1)"
   ]
  },
  {
   "cell_type": "code",
   "execution_count": null,
   "id": "8227ccc5",
   "metadata": {},
   "outputs": [],
   "source": [
    "a = [1, 2, 3]\n",
    "b = []\n",
    "bool(a), bool(b)"
   ]
  },
  {
   "cell_type": "code",
   "execution_count": null,
   "id": "fc5725bb",
   "metadata": {},
   "outputs": [],
   "source": [
    "bool(True), bool(False), bool('True'), bool('False')"
   ]
  },
  {
   "cell_type": "code",
   "execution_count": null,
   "id": "cd89586b",
   "metadata": {},
   "outputs": [],
   "source": [
    "# NoneType\n",
    "a: int = None\n",
    "print(type(a), a)\n",
    "\n",
    "print(a is None)"
   ]
  },
  {
   "cell_type": "code",
   "execution_count": null,
   "id": "e27927d4",
   "metadata": {},
   "outputs": [],
   "source": [
    "# INTEGERS - arbitrary sized\n",
    "from math import factorial as fact\n",
    "\n",
    "fact(5), fact(100)"
   ]
  },
  {
   "cell_type": "code",
   "execution_count": null,
   "id": "8a4d8e12",
   "metadata": {},
   "outputs": [],
   "source": [
    "# 10d --> 1010b\n",
    "# hex - 16\n",
    "# Octal - 8\n",
    "hex(10), bin(10), oct(10), int(0b1010), int(0o12), int('1000000', 3)"
   ]
  },
  {
   "cell_type": "code",
   "execution_count": null,
   "id": "73bd1e9a",
   "metadata": {},
   "outputs": [],
   "source": [
    "# C code for discussion\n",
    "# char arr[20];\n",
    "# int i = &arr;  // Runtime or Compiletime error\n",
    "\n",
    "# float x = 2.5;\n",
    "# i = x;\n",
    "\n",
    "# i = 10.5;"
   ]
  },
  {
   "cell_type": "code",
   "execution_count": null,
   "id": "028d3302",
   "metadata": {},
   "outputs": [],
   "source": [
    "# FLOATS\n",
    "\n",
    "x = 10.5\n",
    "type(x), x"
   ]
  },
  {
   "cell_type": "code",
   "execution_count": null,
   "id": "5cff0fab",
   "metadata": {},
   "outputs": [],
   "source": [
    "x = 3e8\n",
    "type(x), x"
   ]
  },
  {
   "cell_type": "code",
   "execution_count": null,
   "id": "5841c880",
   "metadata": {},
   "outputs": [],
   "source": [
    "planks = 1.616e-35\n",
    "type(planks), planks"
   ]
  },
  {
   "cell_type": "code",
   "execution_count": null,
   "id": "4aa35894",
   "metadata": {},
   "outputs": [],
   "source": [
    "import sys\n",
    "sys.float_info"
   ]
  },
  {
   "cell_type": "code",
   "execution_count": null,
   "id": "17281f81",
   "metadata": {},
   "outputs": [],
   "source": [
    "x = float(10)\n",
    "x = float(\"1.616\")\n",
    "# x = float(\"Text\")\n",
    "# x = int(\"one\")\n",
    "x = int(\"12323\")\n",
    "x = float(\"nan\")\n",
    "x = float(\"inf\")\n",
    "x = float(\"-inf\")\n",
    "type(x), x"
   ]
  },
  {
   "cell_type": "code",
   "execution_count": null,
   "id": "0a76cafd",
   "metadata": {},
   "outputs": [],
   "source": [
    "x = None\n",
    "print(x)\n",
    "# y = int(x)    --> TypeError\n",
    "# y"
   ]
  },
  {
   "cell_type": "code",
   "execution_count": null,
   "id": "6dbc8e75",
   "metadata": {},
   "outputs": [],
   "source": [
    "print(float(2**53))\n",
    "print(float(2**53 + 1))\n",
    "print(float(2**53 + 2))\n",
    "print(float(2**53 + 3))\n",
    "print(float(2**53 + 4))\n",
    "print(float(2**53 + 5))\n"
   ]
  },
  {
   "cell_type": "code",
   "execution_count": null,
   "id": "4c234ac7",
   "metadata": {},
   "outputs": [],
   "source": [
    "a = 0.7\n",
    "b = 0.6\n",
    "c = a - b\n",
    "c"
   ]
  },
  {
   "cell_type": "code",
   "execution_count": null,
   "id": "c30ce486",
   "metadata": {},
   "outputs": [],
   "source": [
    "(0.7 - 0.6) == 0.1"
   ]
  },
  {
   "cell_type": "code",
   "execution_count": null,
   "id": "92a019b1",
   "metadata": {},
   "outputs": [],
   "source": [
    "from decimal import Decimal\n",
    "(Decimal(0.7) - Decimal(0.6)) == Decimal(0.1)"
   ]
  },
  {
   "cell_type": "code",
   "execution_count": null,
   "id": "0266e3f3",
   "metadata": {},
   "outputs": [],
   "source": [
    "from decimal import Decimal\n",
    "(Decimal('0.7') - Decimal('0.6')) == Decimal('0.1')"
   ]
  },
  {
   "cell_type": "code",
   "execution_count": null,
   "id": "f42fa248",
   "metadata": {},
   "outputs": [],
   "source": [
    "Decimal(0.7)"
   ]
  },
  {
   "cell_type": "code",
   "execution_count": null,
   "id": "c5f6592f",
   "metadata": {},
   "outputs": [],
   "source": [
    "import decimal\n",
    "decimal.getcontext()"
   ]
  },
  {
   "cell_type": "code",
   "execution_count": null,
   "id": "31d87f17",
   "metadata": {},
   "outputs": [],
   "source": [
    "PI = Decimal('22') / Decimal('7')\n",
    "print(PI)\n",
    "\n",
    "decimal.getcontext().prec = 3\n",
    "PI = Decimal('22') / Decimal('7')\n",
    "print(PI)\n",
    "\n",
    "decimal.getcontext().prec = 28\n",
    "PI = Decimal('22') / Decimal('7')\n",
    "print(PI)\n"
   ]
  },
  {
   "cell_type": "code",
   "execution_count": null,
   "id": "868bb04b",
   "metadata": {},
   "outputs": [],
   "source": [
    "# 3.5 --> 4\n",
    "# 2.5 --> 3\n",
    "\n",
    "decimal.getcontext().rounding = decimal.ROUND_CEILING\n"
   ]
  },
  {
   "cell_type": "code",
   "execution_count": null,
   "id": "7040dabb",
   "metadata": {},
   "outputs": [],
   "source": [
    "# FRACTION\n",
    "from fractions import Fraction\n",
    "PI = Fraction('22/7')\n",
    "one_tenth = Fraction('0.1')\n",
    "somefraction = Fraction('0.0234')\n",
    "\n",
    "print(PI, one_tenth, somefraction)\n",
    "\n",
    "Fraction('22/7') == Fraction(22/7)"
   ]
  },
  {
   "cell_type": "code",
   "execution_count": null,
   "id": "9cfd92f9",
   "metadata": {},
   "outputs": [],
   "source": [
    "#COMPLEX\n",
    "from cmath import sqrt\n",
    "x = -1\n",
    "sqrt(x)\n",
    "\n",
    "data = complex(3, 7)\n",
    "\n",
    "data, data.conjugate(), (data * data.conjugate())\n"
   ]
  },
  {
   "cell_type": "code",
   "execution_count": null,
   "id": "9287a195",
   "metadata": {},
   "outputs": [],
   "source": [
    "i = 5/2\n",
    "j = 5//2\n",
    "i, j"
   ]
  },
  {
   "cell_type": "code",
   "execution_count": null,
   "id": "f26dbf8c",
   "metadata": {},
   "outputs": [],
   "source": [
    "# Conditional \n",
    "from random import randint\n",
    "\n",
    "val  = randint(1, 5)\n",
    "\n",
    "if val%2 != 0:\n",
    "    print(val, \" --> Odd\")\n",
    "else:\n",
    "    print(val, \" --> Even\")\n",
    "\n",
    "if val < 3:\n",
    "    print(\"Lesser\")\n",
    "elif val > 3:\n",
    "    print(\"Greater\")\n",
    "else:\n",
    "    print(\"Equal\")\n",
    "\n",
    "\n",
    "\n",
    "match val:\n",
    "    case 1:\n",
    "        print(\"One\")\n",
    "    case 2:\n",
    "        print(\"Two\")\n",
    "    case 3:\n",
    "        print(\"Three\")\n",
    "    case _:\n",
    "        print(\"Other val\")\n"
   ]
  },
  {
   "cell_type": "code",
   "execution_count": null,
   "id": "15fa4fe7",
   "metadata": {},
   "outputs": [],
   "source": [
    "# Loops\n",
    "# * for\n",
    "# * while\n",
    "\n",
    "i = 0\n",
    "num = 17\n",
    "while i < 10:\n",
    "    i += 1\n",
    "    if i == num:\n",
    "        print(\"\\nFound\", num)\n",
    "        break\n",
    "    print(i, end=', ')\n",
    "else:\n",
    "    print(\"\\nNot found\", num)\n",
    "\n",
    "print(\"Done\")"
   ]
  },
  {
   "cell_type": "code",
   "execution_count": null,
   "id": "40665171",
   "metadata": {},
   "outputs": [],
   "source": [
    "num = 17\n",
    "\n",
    "# for (initialisation; condition; step)\n",
    "for i in range(1, 11, 2):\n",
    "    print(i, end=', ')\n",
    "    if i == num:\n",
    "        print(\"\\nFound\", num)\n",
    "        break\n",
    "else:\n",
    "    print(\"\\nNot found\", num)\n",
    "\n",
    "print(\"done\")"
   ]
  },
  {
   "cell_type": "code",
   "execution_count": null,
   "id": "6fcaced5",
   "metadata": {},
   "outputs": [],
   "source": [
    "x = 200; y = 200\n",
    "print(type(x), x, type(y), y, \"\\n\", id(x), \"\\n\", id(y))\n",
    "\n",
    "y += 1\n",
    "print(type(x), x, type(y), y, \"\\n\", id(x), \"\\n\", id(y))"
   ]
  },
  {
   "cell_type": "code",
   "execution_count": null,
   "id": "1f5c8fb9",
   "metadata": {},
   "outputs": [],
   "source": [
    "s1 = \"Test\"\n",
    "s2 = \"Test\"\n",
    "print(id(s1), id(s2), sep=\"\\n\")\n",
    "\n",
    "s2 += '!'\n",
    "print(s1, s2)\n",
    "print(id(s1), id(s2), sep=\"\\n\")\n"
   ]
  },
  {
   "cell_type": "code",
   "execution_count": null,
   "id": "484643b4",
   "metadata": {},
   "outputs": [],
   "source": [
    "i = 2000\n",
    "print(id(i))\n",
    "\n",
    "i += 1\n",
    "print(id(i))"
   ]
  },
  {
   "cell_type": "code",
   "execution_count": null,
   "id": "aa6a1dea",
   "metadata": {},
   "outputs": [],
   "source": [
    "i = \"Test\"\n",
    "print(id(i))\n",
    "\n",
    "i += \"!\"\n",
    "print(id(i))"
   ]
  },
  {
   "cell_type": "code",
   "execution_count": null,
   "id": "b678f921",
   "metadata": {},
   "outputs": [],
   "source": [
    "s1 = \"Test\"\n",
    "s2 = \"Data\"\n",
    "s3 = input(\"Enter your Name:\")"
   ]
  },
  {
   "cell_type": "code",
   "execution_count": null,
   "id": "99d2030c",
   "metadata": {},
   "outputs": [],
   "source": [
    "s1 = \"TestData\"\n",
    "print(s1[0])\n",
    "\n",
    "# s1[0] = 'B'\n",
    "s1 = \"BestData\""
   ]
  },
  {
   "cell_type": "markdown",
   "id": "518c4aeb",
   "metadata": {},
   "source": [
    "## Strings"
   ]
  },
  {
   "cell_type": "code",
   "execution_count": null,
   "id": "feb6c5de",
   "metadata": {},
   "outputs": [],
   "source": [
    "# ''  and \"\"  are the same\n",
    "\n",
    "s1 = \"This is Tom's key.\"\n",
    "s2 = 'Tom said, \"Thanks\"'\n",
    "\n",
    "print(s1, s2, sep='\\n')\n",
    "# print(s2)\n"
   ]
  },
  {
   "cell_type": "code",
   "execution_count": null,
   "id": "3921f3f7",
   "metadata": {},
   "outputs": [],
   "source": [
    "s3 = \" This is a \\n multiline\\n string\"\n",
    "print(s3)"
   ]
  },
  {
   "cell_type": "code",
   "execution_count": null,
   "id": "d30d2deb",
   "metadata": {},
   "outputs": [],
   "source": [
    "s4 = \"\"\"This is \n",
    "a \n",
    "multiline\n",
    "string.\n",
    "\"\"\"\n",
    "\n",
    "print(s4)"
   ]
  },
  {
   "cell_type": "code",
   "execution_count": null,
   "id": "9f6141ba",
   "metadata": {},
   "outputs": [],
   "source": [
    "s5 = \"\"\"USAGE\n",
    "CMMD arg arg [arg]\n",
    "arg1: asgadsfa\n",
    "arg2: asdfasdfs\n",
    "\"\"\"\n",
    "\n",
    "print(s5)"
   ]
  },
  {
   "cell_type": "code",
   "execution_count": null,
   "id": "c7d1556e",
   "metadata": {},
   "outputs": [],
   "source": [
    "s6 = \"tmp_\"\"comp\"\"_\"\"timestamp\"\n",
    "print(s6)"
   ]
  },
  {
   "cell_type": "code",
   "execution_count": null,
   "id": "66b99d25",
   "metadata": {},
   "outputs": [],
   "source": [
    "# Raw String\n",
    "path = R\"c:\\User\\newfile\"\n",
    "print(path)"
   ]
  },
  {
   "cell_type": "code",
   "execution_count": null,
   "id": "45f07f94",
   "metadata": {},
   "outputs": [],
   "source": [
    "training = \"Python\"\n",
    "days = 5\n",
    "s1 = \"We are in a %s training for %d days.\"\n",
    "\n",
    "print(s1%(training, days))"
   ]
  },
  {
   "cell_type": "code",
   "execution_count": null,
   "id": "633fd775",
   "metadata": {},
   "outputs": [],
   "source": [
    "training = \"Python\"\n",
    "days = 5\n",
    "s1 = \"We are in a {} training for {} days.\"\n",
    "\n",
    "print(s1.format(training, days))\n",
    "print(\"We are in a\", training, \"training for\", days, \"days.\")"
   ]
  },
  {
   "cell_type": "code",
   "execution_count": null,
   "id": "476f1081",
   "metadata": {},
   "outputs": [],
   "source": [
    "training = \"Python\"\n",
    "days = 5\n",
    "s1 = f\"We are in a {training} training for {days} days.\"\n",
    "\n",
    "print(s1)\n"
   ]
  },
  {
   "cell_type": "code",
   "execution_count": null,
   "id": "df1a5f80",
   "metadata": {},
   "outputs": [],
   "source": [
    "training = \"Python\"\n",
    "days = 5\n",
    "\n",
    "print(\"training = \", training)\n",
    "print(f\"{training=}\")\n",
    "\n",
    "a = 10\n",
    "b = 20\n",
    "\n",
    "print(f\"{(a + b)=}\")"
   ]
  },
  {
   "cell_type": "markdown",
   "id": "5fe950bf",
   "metadata": {},
   "source": [
    "### String slicing\n"
   ]
  },
  {
   "cell_type": "code",
   "execution_count": null,
   "id": "e233f413",
   "metadata": {},
   "outputs": [],
   "source": [
    "s1 = \"We are in a Python training for 5 days.\"\n",
    "\n",
    "print(s1[:5])\n",
    "print(s1[3:6])\n",
    "print(s1[-1])\n",
    "print(s1[-11:] + s1[:6])\n",
    "print(s1[::-1])"
   ]
  },
  {
   "cell_type": "code",
   "execution_count": null,
   "id": "49a60ad9",
   "metadata": {},
   "outputs": [],
   "source": [
    "s1 = \"0123456789\"\n",
    "print(s1[::-1])\n",
    "print(s1[::2])\n",
    "print(s1[1::2])\n",
    "print(len(s1))\n",
    "print(s1.__len__())"
   ]
  }
 ],
 "metadata": {
  "kernelspec": {
   "display_name": "Python 3",
   "language": "python",
   "name": "python3"
  },
  "language_info": {
   "codemirror_mode": {
    "name": "ipython",
    "version": 3
   },
   "file_extension": ".py",
   "mimetype": "text/x-python",
   "name": "python",
   "nbconvert_exporter": "python",
   "pygments_lexer": "ipython3",
   "version": "3.12.7"
  }
 },
 "nbformat": 4,
 "nbformat_minor": 5
}
