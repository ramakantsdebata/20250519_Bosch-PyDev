{
 "cells": [
  {
   "cell_type": "code",
   "execution_count": 3,
   "id": "09d0641f",
   "metadata": {},
   "outputs": [],
   "source": [
    "a = 10"
   ]
  },
  {
   "cell_type": "code",
   "execution_count": 4,
   "id": "fa78fa09",
   "metadata": {},
   "outputs": [
    {
     "name": "stdout",
     "output_type": "stream",
     "text": [
      "10\n"
     ]
    }
   ],
   "source": [
    "print(a)"
   ]
  },
  {
   "cell_type": "code",
   "execution_count": 5,
   "id": "18dd9038",
   "metadata": {},
   "outputs": [],
   "source": [
    "b = 20"
   ]
  },
  {
   "cell_type": "code",
   "execution_count": 11,
   "id": "fc99d181",
   "metadata": {},
   "outputs": [
    {
     "name": "stdout",
     "output_type": "stream",
     "text": [
      "30\n"
     ]
    }
   ],
   "source": [
    "c = a + b\n",
    "print(c)"
   ]
  },
  {
   "cell_type": "code",
   "execution_count": 13,
   "id": "2250f9af",
   "metadata": {},
   "outputs": [],
   "source": [
    "a = 10"
   ]
  },
  {
   "cell_type": "code",
   "execution_count": 14,
   "id": "dad7c8e7",
   "metadata": {},
   "outputs": [
    {
     "data": {
      "text/plain": [
       "20"
      ]
     },
     "execution_count": 14,
     "metadata": {},
     "output_type": "execute_result"
    }
   ],
   "source": [
    "a + 10"
   ]
  },
  {
   "cell_type": "code",
   "execution_count": 15,
   "id": "0a9a0ea0",
   "metadata": {},
   "outputs": [
    {
     "data": {
      "text/plain": [
       "30"
      ]
     },
     "execution_count": 15,
     "metadata": {},
     "output_type": "execute_result"
    }
   ],
   "source": [
    "_ + 10"
   ]
  },
  {
   "cell_type": "markdown",
   "id": "0621d3b5",
   "metadata": {},
   "source": [
    "## Scalar Types and Values\n",
    "* bool \n",
    "* None\n",
    "* int \n",
    "* float\n",
    "* few others..."
   ]
  },
  {
   "cell_type": "code",
   "execution_count": 16,
   "id": "77b5bf16",
   "metadata": {},
   "outputs": [
    {
     "name": "stdout",
     "output_type": "stream",
     "text": [
      "<class 'bool'>\n"
     ]
    }
   ],
   "source": [
    "# BOOLEAN TYPE\n",
    "b1 = True\n",
    "print(type(b1))\n"
   ]
  },
  {
   "cell_type": "code",
   "execution_count": 23,
   "id": "174f7d5b",
   "metadata": {},
   "outputs": [
    {
     "data": {
      "text/plain": [
       "(False, True, True, True)"
      ]
     },
     "execution_count": 23,
     "metadata": {},
     "output_type": "execute_result"
    }
   ],
   "source": [
    "bool(0), bool(1), bool(10), bool(-1)"
   ]
  },
  {
   "cell_type": "code",
   "execution_count": 24,
   "id": "8227ccc5",
   "metadata": {},
   "outputs": [
    {
     "data": {
      "text/plain": [
       "(True, False)"
      ]
     },
     "execution_count": 24,
     "metadata": {},
     "output_type": "execute_result"
    }
   ],
   "source": [
    "a = [1, 2, 3]\n",
    "b = []\n",
    "bool(a), bool(b)"
   ]
  },
  {
   "cell_type": "code",
   "execution_count": 25,
   "id": "fc5725bb",
   "metadata": {},
   "outputs": [
    {
     "data": {
      "text/plain": [
       "(True, False, True, True)"
      ]
     },
     "execution_count": 25,
     "metadata": {},
     "output_type": "execute_result"
    }
   ],
   "source": [
    "bool(True), bool(False), bool('True'), bool('False')"
   ]
  },
  {
   "cell_type": "code",
   "execution_count": 28,
   "id": "cd89586b",
   "metadata": {},
   "outputs": [
    {
     "name": "stdout",
     "output_type": "stream",
     "text": [
      "<class 'NoneType'> None\n",
      "True\n"
     ]
    }
   ],
   "source": [
    "# NoneType\n",
    "a: int = None\n",
    "print(type(a), a)\n",
    "\n",
    "print(a is None)"
   ]
  },
  {
   "cell_type": "code",
   "execution_count": 31,
   "id": "e27927d4",
   "metadata": {},
   "outputs": [
    {
     "data": {
      "text/plain": [
       "(120,\n",
       " 93326215443944152681699238856266700490715968264381621468592963895217599993229915608941463976156518286253697920827223758251185210916864000000000000000000000000)"
      ]
     },
     "execution_count": 31,
     "metadata": {},
     "output_type": "execute_result"
    }
   ],
   "source": [
    "# INTEGERS - arbitrary sized\n",
    "from math import factorial as fact\n",
    "\n",
    "fact(5), fact(100)"
   ]
  },
  {
   "cell_type": "code",
   "execution_count": 40,
   "id": "8a4d8e12",
   "metadata": {},
   "outputs": [
    {
     "data": {
      "text/plain": [
       "('0xa', '0b1010', '0o12', 10, 10, 729)"
      ]
     },
     "execution_count": 40,
     "metadata": {},
     "output_type": "execute_result"
    }
   ],
   "source": [
    "# 10d --> 1010b\n",
    "# hex - 16\n",
    "# Octal - 8\n",
    "hex(10), bin(10), oct(10), int(0b1010), int(0o12), int('1000000', 3)"
   ]
  },
  {
   "cell_type": "code",
   "execution_count": 42,
   "id": "73bd1e9a",
   "metadata": {},
   "outputs": [],
   "source": [
    "# C code for discussion\n",
    "# char arr[20];\n",
    "# int i = &arr;  // Runtime or Compiletime error\n",
    "\n",
    "# float x = 2.5;\n",
    "# i = x;\n",
    "\n",
    "# i = 10.5;"
   ]
  },
  {
   "cell_type": "code",
   "execution_count": 43,
   "id": "028d3302",
   "metadata": {},
   "outputs": [
    {
     "data": {
      "text/plain": [
       "(float, 10.5)"
      ]
     },
     "execution_count": 43,
     "metadata": {},
     "output_type": "execute_result"
    }
   ],
   "source": [
    "# FLOATS\n",
    "\n",
    "x = 10.5\n",
    "type(x), x"
   ]
  },
  {
   "cell_type": "code",
   "execution_count": 44,
   "id": "5cff0fab",
   "metadata": {},
   "outputs": [
    {
     "data": {
      "text/plain": [
       "(float, 300000000.0)"
      ]
     },
     "execution_count": 44,
     "metadata": {},
     "output_type": "execute_result"
    }
   ],
   "source": [
    "x = 3e8\n",
    "type(x), x"
   ]
  },
  {
   "cell_type": "code",
   "execution_count": 47,
   "id": "5841c880",
   "metadata": {},
   "outputs": [
    {
     "data": {
      "text/plain": [
       "(float, 1.616e-35)"
      ]
     },
     "execution_count": 47,
     "metadata": {},
     "output_type": "execute_result"
    }
   ],
   "source": [
    "planks = 1.616e-35\n",
    "type(planks), planks"
   ]
  },
  {
   "cell_type": "code",
   "execution_count": 48,
   "id": "4aa35894",
   "metadata": {},
   "outputs": [
    {
     "data": {
      "text/plain": [
       "sys.float_info(max=1.7976931348623157e+308, max_exp=1024, max_10_exp=308, min=2.2250738585072014e-308, min_exp=-1021, min_10_exp=-307, dig=15, mant_dig=53, epsilon=2.220446049250313e-16, radix=2, rounds=1)"
      ]
     },
     "execution_count": 48,
     "metadata": {},
     "output_type": "execute_result"
    }
   ],
   "source": [
    "import sys\n",
    "sys.float_info"
   ]
  },
  {
   "cell_type": "code",
   "execution_count": 58,
   "id": "17281f81",
   "metadata": {},
   "outputs": [
    {
     "data": {
      "text/plain": [
       "(float, -inf)"
      ]
     },
     "execution_count": 58,
     "metadata": {},
     "output_type": "execute_result"
    }
   ],
   "source": [
    "x = float(10)\n",
    "x = float(\"1.616\")\n",
    "# x = float(\"Text\")\n",
    "# x = int(\"one\")\n",
    "x = int(\"12323\")\n",
    "x = float(\"nan\")\n",
    "x = float(\"inf\")\n",
    "x = float(\"-inf\")\n",
    "type(x), x"
   ]
  },
  {
   "cell_type": "code",
   "execution_count": 62,
   "id": "0a76cafd",
   "metadata": {},
   "outputs": [
    {
     "name": "stdout",
     "output_type": "stream",
     "text": [
      "None\n"
     ]
    }
   ],
   "source": [
    "x = None\n",
    "print(x)\n",
    "# y = int(x)    --> TypeError\n",
    "# y"
   ]
  },
  {
   "cell_type": "code",
   "execution_count": 67,
   "id": "6dbc8e75",
   "metadata": {},
   "outputs": [
    {
     "name": "stdout",
     "output_type": "stream",
     "text": [
      "9007199254740992.0\n",
      "9007199254740992.0\n",
      "9007199254740994.0\n",
      "9007199254740996.0\n",
      "9007199254740996.0\n",
      "9007199254740996.0\n"
     ]
    }
   ],
   "source": [
    "print(float(2**53))\n",
    "print(float(2**53 + 1))\n",
    "print(float(2**53 + 2))\n",
    "print(float(2**53 + 3))\n",
    "print(float(2**53 + 4))\n",
    "print(float(2**53 + 5))\n"
   ]
  },
  {
   "cell_type": "code",
   "execution_count": 68,
   "id": "4c234ac7",
   "metadata": {},
   "outputs": [
    {
     "data": {
      "text/plain": [
       "0.09999999999999998"
      ]
     },
     "execution_count": 68,
     "metadata": {},
     "output_type": "execute_result"
    }
   ],
   "source": [
    "a = 0.7\n",
    "b = 0.6\n",
    "c = a - b\n",
    "c"
   ]
  },
  {
   "cell_type": "code",
   "execution_count": 69,
   "id": "c30ce486",
   "metadata": {},
   "outputs": [
    {
     "data": {
      "text/plain": [
       "False"
      ]
     },
     "execution_count": 69,
     "metadata": {},
     "output_type": "execute_result"
    }
   ],
   "source": [
    "(0.7 - 0.6) == 0.1"
   ]
  },
  {
   "cell_type": "code",
   "execution_count": null,
   "id": "92a019b1",
   "metadata": {},
   "outputs": [
    {
     "data": {
      "text/plain": [
       "False"
      ]
     },
     "execution_count": 70,
     "metadata": {},
     "output_type": "execute_result"
    }
   ],
   "source": [
    "from decimal import Decimal\n",
    "(Decimal(0.7) - Decimal(0.6)) == Decimal(0.1)"
   ]
  },
  {
   "cell_type": "code",
   "execution_count": 71,
   "id": "0266e3f3",
   "metadata": {},
   "outputs": [
    {
     "data": {
      "text/plain": [
       "True"
      ]
     },
     "execution_count": 71,
     "metadata": {},
     "output_type": "execute_result"
    }
   ],
   "source": [
    "from decimal import Decimal\n",
    "(Decimal('0.7') - Decimal('0.6')) == Decimal('0.1')"
   ]
  },
  {
   "cell_type": "code",
   "execution_count": 72,
   "id": "f42fa248",
   "metadata": {},
   "outputs": [
    {
     "data": {
      "text/plain": [
       "Decimal('0.6999999999999999555910790149937383830547332763671875')"
      ]
     },
     "execution_count": 72,
     "metadata": {},
     "output_type": "execute_result"
    }
   ],
   "source": [
    "Decimal(0.7)"
   ]
  },
  {
   "cell_type": "code",
   "execution_count": 73,
   "id": "c5f6592f",
   "metadata": {},
   "outputs": [
    {
     "data": {
      "text/plain": [
       "Context(prec=28, rounding=ROUND_HALF_EVEN, Emin=-999999, Emax=999999, capitals=1, clamp=0, flags=[Inexact, FloatOperation, Rounded], traps=[InvalidOperation, DivisionByZero, Overflow])"
      ]
     },
     "execution_count": 73,
     "metadata": {},
     "output_type": "execute_result"
    }
   ],
   "source": [
    "import decimal\n",
    "decimal.getcontext()"
   ]
  },
  {
   "cell_type": "code",
   "execution_count": null,
   "id": "31d87f17",
   "metadata": {},
   "outputs": [
    {
     "name": "stdout",
     "output_type": "stream",
     "text": [
      "3.142857142857142857142857143\n",
      "3.14\n"
     ]
    }
   ],
   "source": [
    "PI = Decimal('22') / Decimal('7')\n",
    "print(PI)\n",
    "\n",
    "decimal.getcontext().prec = 3\n",
    "PI = Decimal('22') / Decimal('7')\n",
    "print(PI)\n",
    "\n",
    "decimal.getcontext().prec = 28\n",
    "PI = Decimal('22') / Decimal('7')\n",
    "print(PI)\n"
   ]
  },
  {
   "cell_type": "code",
   "execution_count": 78,
   "id": "868bb04b",
   "metadata": {},
   "outputs": [],
   "source": [
    "# 3.5 --> 4\n",
    "# 2.5 --> 3\n",
    "\n",
    "decimal.getcontext().rounding = decimal.ROUND_CEILING\n"
   ]
  },
  {
   "cell_type": "code",
   "execution_count": 85,
   "id": "7040dabb",
   "metadata": {},
   "outputs": [
    {
     "name": "stdout",
     "output_type": "stream",
     "text": [
      "22/7 1/10 117/5000\n"
     ]
    },
    {
     "data": {
      "text/plain": [
       "False"
      ]
     },
     "execution_count": 85,
     "metadata": {},
     "output_type": "execute_result"
    }
   ],
   "source": [
    "# FRACTION\n",
    "from fractions import Fraction\n",
    "PI = Fraction('22/7')\n",
    "one_tenth = Fraction('0.1')\n",
    "somefraction = Fraction('0.0234')\n",
    "\n",
    "print(PI, one_tenth, somefraction)\n",
    "\n",
    "Fraction('22/7') == Fraction(22/7)"
   ]
  },
  {
   "cell_type": "code",
   "execution_count": 90,
   "id": "9cfd92f9",
   "metadata": {},
   "outputs": [
    {
     "data": {
      "text/plain": [
       "((3+7j), (3-7j), (58+0j))"
      ]
     },
     "execution_count": 90,
     "metadata": {},
     "output_type": "execute_result"
    }
   ],
   "source": [
    "#COMPLEX\n",
    "from cmath import sqrt\n",
    "x = -1\n",
    "sqrt(x)\n",
    "\n",
    "data = complex(3, 7)\n",
    "\n",
    "data, data.conjugate(), (data * data.conjugate())\n"
   ]
  },
  {
   "cell_type": "code",
   "execution_count": null,
   "id": "9287a195",
   "metadata": {},
   "outputs": [
    {
     "data": {
      "text/plain": [
       "(2.5, 2)"
      ]
     },
     "execution_count": 92,
     "metadata": {},
     "output_type": "execute_result"
    }
   ],
   "source": [
    "i = 5/2\n",
    "j = 5//2\n",
    "i, j"
   ]
  },
  {
   "cell_type": "code",
   "execution_count": null,
   "id": "f26dbf8c",
   "metadata": {},
   "outputs": [
    {
     "name": "stdout",
     "output_type": "stream",
     "text": [
      "3  --> Odd\n",
      "Equal\n",
      "Three\n"
     ]
    }
   ],
   "source": [
    "# Conditional \n",
    "from random import randint\n",
    "\n",
    "val  = randint(1, 5)\n",
    "\n",
    "if val%2 != 0:\n",
    "    print(val, \" --> Odd\")\n",
    "else:\n",
    "    print(val, \" --> Even\")\n",
    "\n",
    "if val < 3:\n",
    "    print(\"Lesser\")\n",
    "elif val > 3:\n",
    "    print(\"Greater\")\n",
    "else:\n",
    "    print(\"Equal\")\n",
    "\n",
    "\n",
    "\n",
    "match val:\n",
    "    case 1:\n",
    "        print(\"One\")\n",
    "    case 2:\n",
    "        print(\"Two\")\n",
    "    case 3:\n",
    "        print(\"Three\")\n",
    "    case _:\n",
    "        print(\"Other val\")\n"
   ]
  },
  {
   "cell_type": "code",
   "execution_count": 124,
   "id": "15fa4fe7",
   "metadata": {},
   "outputs": [
    {
     "name": "stdout",
     "output_type": "stream",
     "text": [
      "1, 2, 3, 4, 5, 6, 7, 8, 9, 10, \n",
      "Not found 17\n",
      "Done\n"
     ]
    }
   ],
   "source": [
    "# Loops\n",
    "# * for\n",
    "# * while\n",
    "\n",
    "i = 0\n",
    "num = 17\n",
    "while i < 10:\n",
    "    i += 1\n",
    "    if i == num:\n",
    "        print(\"\\nFound\", num)\n",
    "        break\n",
    "    print(i, end=', ')\n",
    "else:\n",
    "    print(\"\\nNot found\", num)\n",
    "\n",
    "print(\"Done\")"
   ]
  },
  {
   "cell_type": "code",
   "execution_count": null,
   "id": "40665171",
   "metadata": {},
   "outputs": [
    {
     "name": "stdout",
     "output_type": "stream",
     "text": [
      "1, 3, 5, 7, 9, \n",
      "Not found 17\n",
      "done\n"
     ]
    }
   ],
   "source": [
    "num = 17\n",
    "\n",
    "# for (initialisation; condition; step)\n",
    "for i in range(1, 11, 2):\n",
    "    print(i, end=', ')\n",
    "    if i == num:\n",
    "        print(\"\\nFound\", num)\n",
    "        break\n",
    "else:\n",
    "    print(\"\\nNot found\", num)\n",
    "\n",
    "print(\"done\")"
   ]
  },
  {
   "cell_type": "code",
   "execution_count": 140,
   "id": "6fcaced5",
   "metadata": {},
   "outputs": [
    {
     "name": "stdout",
     "output_type": "stream",
     "text": [
      "<class 'int'> 200 <class 'int'> 200 \n",
      " 140721702437528 \n",
      " 140721702437528\n",
      "<class 'int'> 200 <class 'int'> 201 \n",
      " 140721702437528 \n",
      " 140721702437560\n"
     ]
    }
   ],
   "source": [
    "x = 200; y = 200\n",
    "print(type(x), x, type(y), y, \"\\n\", id(x), \"\\n\", id(y))\n",
    "\n",
    "y += 1\n",
    "print(type(x), x, type(y), y, \"\\n\", id(x), \"\\n\", id(y))"
   ]
  },
  {
   "cell_type": "code",
   "execution_count": 142,
   "id": "1f5c8fb9",
   "metadata": {},
   "outputs": [
    {
     "name": "stdout",
     "output_type": "stream",
     "text": [
      "1835942293216\n",
      "1835942293216\n",
      "Test Test!\n",
      "1835942293216\n",
      "1835942778352\n"
     ]
    }
   ],
   "source": [
    "s1 = \"Test\"\n",
    "s2 = \"Test\"\n",
    "print(id(s1), id(s2), sep=\"\\n\")\n",
    "\n",
    "s2 += '!'\n",
    "print(s1, s2)\n",
    "print(id(s1), id(s2), sep=\"\\n\")\n"
   ]
  },
  {
   "cell_type": "code",
   "execution_count": null,
   "id": "484643b4",
   "metadata": {},
   "outputs": [
    {
     "name": "stdout",
     "output_type": "stream",
     "text": [
      "1835949428240\n",
      "1835949431088\n"
     ]
    }
   ],
   "source": [
    "i = 2000\n",
    "print(id(i))\n",
    "\n",
    "i += 1\n",
    "print(id(i))"
   ]
  },
  {
   "cell_type": "code",
   "execution_count": 144,
   "id": "aa6a1dea",
   "metadata": {},
   "outputs": [
    {
     "name": "stdout",
     "output_type": "stream",
     "text": [
      "1835942293216\n",
      "1835940832256\n"
     ]
    }
   ],
   "source": [
    "i = \"Test\"\n",
    "print(id(i))\n",
    "\n",
    "i += \"!\"\n",
    "print(id(i))"
   ]
  },
  {
   "cell_type": "code",
   "execution_count": null,
   "id": "b678f921",
   "metadata": {},
   "outputs": [],
   "source": [
    "s1 = \"Test\"\n",
    "s2 = \"Data\"\n",
    "s3 = input(\"Enter your Name:\")"
   ]
  }
 ],
 "metadata": {
  "kernelspec": {
   "display_name": "Python 3",
   "language": "python",
   "name": "python3"
  },
  "language_info": {
   "codemirror_mode": {
    "name": "ipython",
    "version": 3
   },
   "file_extension": ".py",
   "mimetype": "text/x-python",
   "name": "python",
   "nbconvert_exporter": "python",
   "pygments_lexer": "ipython3",
   "version": "3.12.7"
  }
 },
 "nbformat": 4,
 "nbformat_minor": 5
}
